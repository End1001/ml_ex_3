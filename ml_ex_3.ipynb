{
  "metadata": {
    "kernelspec": {
      "display_name": "Python 3",
      "language": "python",
      "name": "python3"
    },
    "language_info": {
      "name": "python",
      "version": "3.10.12",
      "mimetype": "text/x-python",
      "codemirror_mode": {
        "name": "ipython",
        "version": 3
      },
      "pygments_lexer": "ipython3",
      "nbconvert_exporter": "python",
      "file_extension": ".py"
    },
    "kaggle": {
      "accelerator": "none",
      "dataSources": [],
      "dockerImageVersionId": 30918,
      "isInternetEnabled": true,
      "language": "python",
      "sourceType": "notebook",
      "isGpuEnabled": false
    },
    "colab": {
      "provenance": [],
      "include_colab_link": true
    }
  },
  "nbformat_minor": 0,
  "nbformat": 4,
  "cells": [
    {
      "cell_type": "markdown",
      "metadata": {
        "id": "view-in-github",
        "colab_type": "text"
      },
      "source": [
        "<a href=\"https://colab.research.google.com/github/End1001/ml_ex_3/blob/main/ml_ex_3.ipynb\" target=\"_parent\"><img src=\"https://colab.research.google.com/assets/colab-badge.svg\" alt=\"Open In Colab\"/></a>"
      ]
    },
    {
      "cell_type": "markdown",
      "source": [
        "# **Esercitazione 3 - Classificatori: Regressione Logistica e SVM**\n",
        "\n",
        "In questa esercitazione applicheremo quanto appreso sui classificatori. Nello specifico utilizzeremo:\n",
        "\n",
        "* **Regressione Logistica:** Un modello lineare che utilizza la funzione sigmoide per predire le probabilità delle classi.\n",
        "\n",
        "* **Support Vector Machines (SVM):** Efficace sia per problemi lineari che non lineari utilizzando il kernel trick."
      ],
      "metadata": {
        "id": "LKLApv-r0YYG"
      }
    },
    {
      "cell_type": "markdown",
      "source": [
        "### **Dataset MNIST-784**\n",
        "\n",
        "Il dataset di riferimento sarà `MNIST-784`, già visto in precedenza. Il dataset contiene immagini di 10 classi (da 0 a 9). Per comodità utilizzeremo soltanto 2 classi inizialmente, per rendere la classificazione binaria. Nello specifico utilizzeremo soltanto le immagini che hanno come etichetta `3` e `8`.\n",
        "\n",
        "Il codice seguente esegui l' import delle librerie necessarie e la selezione delle etichette che ci interessano. Le etichette vengono anche rimpiazzate con `1` e `0`, emulando il caso di classificazione binaria."
      ],
      "metadata": {
        "id": "fw1iJHbK0YYI"
      }
    },
    {
      "cell_type": "code",
      "source": [
        "import numpy as np\n",
        "import matplotlib.pyplot as plt\n",
        "from sklearn.datasets import fetch_openml\n",
        "from sklearn.preprocessing import StandardScaler"
      ],
      "metadata": {
        "trusted": true,
        "execution": {
          "iopub.status.busy": "2025-04-03T13:19:10.379120Z",
          "iopub.execute_input": "2025-04-03T13:19:10.379374Z",
          "iopub.status.idle": "2025-04-03T13:19:12.063709Z",
          "shell.execute_reply.started": "2025-04-03T13:19:10.379350Z",
          "shell.execute_reply": "2025-04-03T13:19:12.062584Z"
        },
        "id": "RpSnZ0rU0YYJ"
      },
      "outputs": [],
      "execution_count": 31
    },
    {
      "cell_type": "code",
      "source": [
        "mnist = fetch_openml('mnist_784', version=1, parser='auto')\n",
        "X, y = mnist.data, mnist.target.astype(int)\n",
        "\n",
        "indexes = (y == 3) | (y == 8)\n",
        "X = X[indexes]\n",
        "y = y[indexes]\n",
        "\n",
        "y = np.where(y == 8, 1, 0)\n",
        "\n",
        "print(f\"Features shape: {X.shape}, Labels shape: {y.shape}\")"
      ],
      "metadata": {
        "trusted": true,
        "execution": {
          "iopub.status.busy": "2025-04-03T13:19:12.065338Z",
          "iopub.execute_input": "2025-04-03T13:19:12.065880Z",
          "iopub.status.idle": "2025-04-03T13:19:31.456448Z",
          "shell.execute_reply.started": "2025-04-03T13:19:12.065837Z",
          "shell.execute_reply": "2025-04-03T13:19:31.455617Z"
        },
        "colab": {
          "base_uri": "https://localhost:8080/"
        },
        "id": "yLVgI9j40YYK",
        "outputId": "86f0a624-50e1-413c-fc11-d2bdba1ac8dc"
      },
      "outputs": [
        {
          "output_type": "stream",
          "name": "stdout",
          "text": [
            "Features shape: (13966, 784), Labels shape: (13966,)\n"
          ]
        }
      ],
      "execution_count": 32
    },
    {
      "cell_type": "markdown",
      "source": [
        "### **Divisione e standardizzazione del dataset**\n",
        "\n",
        "Dividiamo il dataset in `train set`, `validation set` e `test set` utilizzando le proporzioni già impostate. Successivamente applichiamo la standardizzazione utilizzando `StandardScaler`."
      ],
      "metadata": {
        "id": "OXUZzlBW0YYK"
      }
    },
    {
      "cell_type": "code",
      "source": [
        "# Usare le seguenti proporzioni per il train, validation e test\n",
        "train_fraction = 0.6\n",
        "validation_fraction = 0.2\n",
        "test_fraction = 0.2\n",
        "\n",
        "# svolgimento...\n",
        "\n",
        "dati_completi = np.c_[X, y]\n",
        "\n",
        "n_total = dati_completi.shape[0]\n",
        "n_train = int(n_total * train_fraction)\n",
        "n_val = int(n_total * validation_fraction)\n",
        "n_test = int(n_total * test_fraction)\n",
        "\n",
        "train_set = dati_completi[:n_train]\n",
        "val_set = dati_completi[n_train:n_train + n_val]\n",
        "test_set = dati_completi[n_train + n_val:]\n",
        "\n",
        "X_train, y_train = train_set[:, :-1], train_set[:, -1]\n",
        "X_val, y_val = val_set[:, :-1], val_set[:, -1]\n",
        "X_test, y_test = test_set[:, :-1], test_set[:, -1]\n",
        "\n",
        "print(X_train.shape, y_train.shape)\n",
        "print(X_val.shape, y_val.shape)\n",
        "print(X_test.shape, y_test.shape)"
      ],
      "metadata": {
        "trusted": true,
        "execution": {
          "iopub.status.busy": "2025-04-03T13:19:31.457582Z",
          "iopub.execute_input": "2025-04-03T13:19:31.457919Z",
          "iopub.status.idle": "2025-04-03T13:19:31.506531Z",
          "shell.execute_reply.started": "2025-04-03T13:19:31.457887Z",
          "shell.execute_reply": "2025-04-03T13:19:31.505710Z"
        },
        "colab": {
          "base_uri": "https://localhost:8080/"
        },
        "id": "VC-fEm3q0YYM",
        "outputId": "3e4bbe42-58c6-4176-9318-3b366cbd203b"
      },
      "outputs": [
        {
          "output_type": "stream",
          "name": "stdout",
          "text": [
            "(8379, 784) (8379,)\n",
            "(2793, 784) (2793,)\n",
            "(2794, 784) (2794,)\n"
          ]
        }
      ],
      "execution_count": 33
    },
    {
      "cell_type": "markdown",
      "source": [
        "## **Esercizio 1: Implementare la Regressione Logistica**\n",
        "\n",
        "Per implementare la regressione logistica utilizzeremo la classe `sklearn.linear_model.LogisticRegression` presente in `scikit-learn`. La documentazione è disponibile [a questo link](https://scikit-learn.org/stable/modules/generated/sklearn.linear_model.LogisticRegression.html).\n",
        "\n",
        "Per utilizzarla al meglio, di seguito vediamo i parametri chiave che bisogna specificare al momento della creazione dell' istanza:\n",
        "\n",
        "* **`C`**: Inverso della forza di regolarizzazione L2 (λ). Valori più piccoli indicano una regolarizzazione più forte.\n",
        "* **`solver`**: Algoritmo da utilizzare nel problema di ottimizzazione (nel nostro caso, `liblinear`).\n",
        "* **`max_iter`**: Imposta il numero massimo di iterazioni affinché l'algoritmo di ottimizzazione converga e trovi i migliori parametri del modello.\n",
        "\n",
        "### Esempio di sintassi per istanziare, addestrare e predire\n",
        "\n",
        "```python\n",
        "#Importo LogisticRegression da scikit-learn\n",
        "from sklearn.linear_model import LogisticRegression\n",
        "\n",
        "#1. Instanzio il modello di Regressione Logistica\n",
        "# Durante la creazione dell' istanza imposto i parametri che desidero\n",
        "model = LogisticRegression(max_iter=100, solver='liblinear',C=1.0)\n",
        "\n",
        "#2. Train del modello utilizzando il metodo .fit()\n",
        "model.fit(X_train, y_train)\n",
        "\n",
        "#3. Calcolo delle predizioni utilizzando il metodo .predict()\n",
        "predictions = model.predict(X_test)\n",
        "\n",
        "```"
      ],
      "metadata": {
        "id": "vgHXaaa-0YYO"
      }
    },
    {
      "cell_type": "markdown",
      "source": [
        "### **Guida per la risoluzione**\n",
        "\n",
        "Di seguito sono spiegati i passaggi principali per la risoluzione dell' esercizio.\n",
        "\n",
        "1. **Creazione del modello:** Creare un' istanza della classe `LogisticRegression`, specificando i parametri presentati poco sopra. In particolare vogliamo i seguenti parametri:\n",
        "    \n",
        "    - `max_iter` = 100\n",
        "    - `solver` = `'liblinear'`\n",
        "    - `C` = 1.0\n",
        "\n",
        "2. **Addestramento del modello:** Addestriamo il modello utilizzando il metodo `.fit()`. Il modello deve essere addestrato sui dati di train standardizzati.\n",
        "\n",
        "3. **Calcolo delle predizioni:** Calcoliamo le predizioni sul validation e test utilizzando il metodo `.predict()` del modello.\n",
        "\n",
        "4. **Valutazione delle prestazioni del modello:** Calcoliamo l' accuracy del modello. Ricordiamo che l' accuracy è data dal numero di predizioni corrette che il modello effettua rispetto al totale dei campioni. Dobbiamo valutare il modello sia sul validation set che sul test set. Infine stampare il valore di accuracy sul validation e sul test."
      ],
      "metadata": {
        "id": "FEPHpjah0YYP"
      }
    },
    {
      "cell_type": "code",
      "source": [
        "from sklearn.linear_model import LogisticRegression\n",
        "import numpy as np\n",
        "\n",
        "# Step 1 - Creazione del modello\n",
        "\n",
        "# svolgimento...\n",
        "model = LogisticRegression(max_iter=100, solver='liblinear',C=1.0)"
      ],
      "metadata": {
        "trusted": true,
        "execution": {
          "iopub.status.busy": "2025-04-03T13:19:31.507398Z",
          "iopub.execute_input": "2025-04-03T13:19:31.507654Z",
          "iopub.status.idle": "2025-04-03T13:19:31.772156Z",
          "shell.execute_reply.started": "2025-04-03T13:19:31.507611Z",
          "shell.execute_reply": "2025-04-03T13:19:31.771020Z"
        },
        "id": "G29_qFWy0YYQ"
      },
      "outputs": [],
      "execution_count": 34
    },
    {
      "cell_type": "code",
      "source": [
        "# Step 2 - Addestramento del modello\n",
        "\n",
        "# svolgimento...\n",
        "model.fit(X_train, y_train)"
      ],
      "metadata": {
        "trusted": true,
        "execution": {
          "iopub.status.busy": "2025-04-03T13:19:31.774456Z",
          "iopub.execute_input": "2025-04-03T13:19:31.774788Z",
          "iopub.status.idle": "2025-04-03T13:20:03.779287Z",
          "shell.execute_reply.started": "2025-04-03T13:19:31.774760Z",
          "shell.execute_reply": "2025-04-03T13:20:03.778380Z"
        },
        "colab": {
          "base_uri": "https://localhost:8080/",
          "height": 374
        },
        "id": "vCfY83Hh0YYQ",
        "outputId": "6947cf0f-0781-45c7-e1ca-f047458c5ffa"
      },
      "outputs": [
        {
          "output_type": "error",
          "ename": "KeyboardInterrupt",
          "evalue": "",
          "traceback": [
            "\u001b[0;31m---------------------------------------------------------------------------\u001b[0m",
            "\u001b[0;31mKeyboardInterrupt\u001b[0m                         Traceback (most recent call last)",
            "\u001b[0;32m<ipython-input-35-c08f6b239bdb>\u001b[0m in \u001b[0;36m<cell line: 0>\u001b[0;34m()\u001b[0m\n\u001b[1;32m      2\u001b[0m \u001b[0;34m\u001b[0m\u001b[0m\n\u001b[1;32m      3\u001b[0m \u001b[0;31m# svolgimento...\u001b[0m\u001b[0;34m\u001b[0m\u001b[0;34m\u001b[0m\u001b[0m\n\u001b[0;32m----> 4\u001b[0;31m \u001b[0mmodel\u001b[0m\u001b[0;34m.\u001b[0m\u001b[0mfit\u001b[0m\u001b[0;34m(\u001b[0m\u001b[0mX_train\u001b[0m\u001b[0;34m,\u001b[0m \u001b[0my_train\u001b[0m\u001b[0;34m)\u001b[0m\u001b[0;34m\u001b[0m\u001b[0;34m\u001b[0m\u001b[0m\n\u001b[0m",
            "\u001b[0;32m/usr/local/lib/python3.11/dist-packages/sklearn/base.py\u001b[0m in \u001b[0;36mwrapper\u001b[0;34m(estimator, *args, **kwargs)\u001b[0m\n\u001b[1;32m   1387\u001b[0m                 )\n\u001b[1;32m   1388\u001b[0m             ):\n\u001b[0;32m-> 1389\u001b[0;31m                 \u001b[0;32mreturn\u001b[0m \u001b[0mfit_method\u001b[0m\u001b[0;34m(\u001b[0m\u001b[0mestimator\u001b[0m\u001b[0;34m,\u001b[0m \u001b[0;34m*\u001b[0m\u001b[0margs\u001b[0m\u001b[0;34m,\u001b[0m \u001b[0;34m**\u001b[0m\u001b[0mkwargs\u001b[0m\u001b[0;34m)\u001b[0m\u001b[0;34m\u001b[0m\u001b[0;34m\u001b[0m\u001b[0m\n\u001b[0m\u001b[1;32m   1390\u001b[0m \u001b[0;34m\u001b[0m\u001b[0m\n\u001b[1;32m   1391\u001b[0m         \u001b[0;32mreturn\u001b[0m \u001b[0mwrapper\u001b[0m\u001b[0;34m\u001b[0m\u001b[0;34m\u001b[0m\u001b[0m\n",
            "\u001b[0;32m/usr/local/lib/python3.11/dist-packages/sklearn/linear_model/_logistic.py\u001b[0m in \u001b[0;36mfit\u001b[0;34m(self, X, y, sample_weight)\u001b[0m\n\u001b[1;32m   1274\u001b[0m                     \u001b[0;34m\" = {}.\"\u001b[0m\u001b[0;34m.\u001b[0m\u001b[0mformat\u001b[0m\u001b[0;34m(\u001b[0m\u001b[0meffective_n_jobs\u001b[0m\u001b[0;34m(\u001b[0m\u001b[0mself\u001b[0m\u001b[0;34m.\u001b[0m\u001b[0mn_jobs\u001b[0m\u001b[0;34m)\u001b[0m\u001b[0;34m)\u001b[0m\u001b[0;34m\u001b[0m\u001b[0;34m\u001b[0m\u001b[0m\n\u001b[1;32m   1275\u001b[0m                 )\n\u001b[0;32m-> 1276\u001b[0;31m             self.coef_, self.intercept_, self.n_iter_ = _fit_liblinear(\n\u001b[0m\u001b[1;32m   1277\u001b[0m                 \u001b[0mX\u001b[0m\u001b[0;34m,\u001b[0m\u001b[0;34m\u001b[0m\u001b[0;34m\u001b[0m\u001b[0m\n\u001b[1;32m   1278\u001b[0m                 \u001b[0my\u001b[0m\u001b[0;34m,\u001b[0m\u001b[0;34m\u001b[0m\u001b[0;34m\u001b[0m\u001b[0m\n",
            "\u001b[0;32m/usr/local/lib/python3.11/dist-packages/sklearn/svm/_base.py\u001b[0m in \u001b[0;36m_fit_liblinear\u001b[0;34m(X, y, C, fit_intercept, intercept_scaling, class_weight, penalty, dual, verbose, max_iter, tol, random_state, multi_class, loss, epsilon, sample_weight)\u001b[0m\n\u001b[1;32m   1227\u001b[0m \u001b[0;34m\u001b[0m\u001b[0m\n\u001b[1;32m   1228\u001b[0m     \u001b[0msolver_type\u001b[0m \u001b[0;34m=\u001b[0m \u001b[0m_get_liblinear_solver_type\u001b[0m\u001b[0;34m(\u001b[0m\u001b[0mmulti_class\u001b[0m\u001b[0;34m,\u001b[0m \u001b[0mpenalty\u001b[0m\u001b[0;34m,\u001b[0m \u001b[0mloss\u001b[0m\u001b[0;34m,\u001b[0m \u001b[0mdual\u001b[0m\u001b[0;34m)\u001b[0m\u001b[0;34m\u001b[0m\u001b[0;34m\u001b[0m\u001b[0m\n\u001b[0;32m-> 1229\u001b[0;31m     raw_coef_, n_iter_ = liblinear.train_wrap(\n\u001b[0m\u001b[1;32m   1230\u001b[0m         \u001b[0mX\u001b[0m\u001b[0;34m,\u001b[0m\u001b[0;34m\u001b[0m\u001b[0;34m\u001b[0m\u001b[0m\n\u001b[1;32m   1231\u001b[0m         \u001b[0my_ind\u001b[0m\u001b[0;34m,\u001b[0m\u001b[0;34m\u001b[0m\u001b[0;34m\u001b[0m\u001b[0m\n",
            "\u001b[0;31mKeyboardInterrupt\u001b[0m: "
          ]
        }
      ],
      "execution_count": 35
    },
    {
      "cell_type": "code",
      "source": [
        "# Step 3 - Calcolo delle predizioni\n",
        "\n",
        "# svolgimento...\n",
        "predictions_test = model.predict(X_test)\n",
        "predictions_val = model.predict(X_val)"
      ],
      "metadata": {
        "trusted": true,
        "execution": {
          "iopub.status.busy": "2025-04-03T13:20:03.780951Z",
          "iopub.execute_input": "2025-04-03T13:20:03.781323Z",
          "iopub.status.idle": "2025-04-03T13:20:03.805497Z",
          "shell.execute_reply.started": "2025-04-03T13:20:03.781288Z",
          "shell.execute_reply": "2025-04-03T13:20:03.804386Z"
        },
        "id": "o_2bqsWx0YYR"
      },
      "outputs": [],
      "execution_count": null
    },
    {
      "cell_type": "code",
      "source": [
        "# Step 4 - Calcolo delle metriche di valutazione\n",
        "\n",
        "# Calcolo dell'accuratezza manualmente\n",
        "correct_valid = np.sum(y_val == predictions_val)\n",
        "total_valid = len(y_val)\n",
        "\n",
        "correct_test = np.sum(y_test == predictions_test)\n",
        "total_test = len(y_test)\n",
        "\n",
        "accuracy_valid = correct_valid / total_valid\n",
        "accuracy_test = correct_test / total_test\n",
        "\n",
        "print(f\"Accuratezza su validation set: {accuracy_valid:.4f}\")\n",
        "print(f\"Accuratezza su test set: {accuracy_test:.4f}\")\n"
      ],
      "metadata": {
        "trusted": true,
        "execution": {
          "iopub.status.busy": "2025-04-03T13:20:03.806569Z",
          "iopub.execute_input": "2025-04-03T13:20:03.806955Z",
          "iopub.status.idle": "2025-04-03T13:20:03.813610Z",
          "shell.execute_reply.started": "2025-04-03T13:20:03.806915Z",
          "shell.execute_reply": "2025-04-03T13:20:03.812719Z"
        },
        "id": "_AXvLUOg0YYR"
      },
      "outputs": [],
      "execution_count": null
    },
    {
      "cell_type": "markdown",
      "source": [
        "## **Esercizio 2: Implementare Support Vector Machines (SVM)**\n",
        "\n",
        "Per implementare le SVM utilizziamo la classe `sklearn.svm.SVC` presente in `scikit-learn`. La documentazione è disponibile [a questo link](https://scikit-learn.org/stable/modules/generated/sklearn.svm.SVC.html).\n",
        "\n",
        "Per utilizzarla al meglio, di seguito vediamo i parametri chiave che bisogna specificare al momento della creazione dell' istanza:\n",
        "\n",
        "* **`C`**: Parametro di regolarizzazione. L'intensità della regolarizzazione è inversamente proporzionale a C.\n",
        "* **`kernel`**: Specifica il tipo di kernel da utilizzare nell'algoritmo (`'linear'`, `'poly'`, `'rbf'`).\n",
        "\n",
        "### Esempio di sintassi per istanziare, addestrare e predire\n",
        "\n",
        "```python\n",
        "#Importare la classe SVC da scikit-learn\n",
        "from sklearn.svm import SVC\n",
        "\n",
        "#1. Creare un' istanza della classe SVC\n",
        "# Durante la creazione dell' istanza imposto i parametri che desidero\n",
        "model = SVC(kernel='linear', C=1.0)\n",
        "\n",
        "#2. Train del modello utilizzando il metodo .fit()\n",
        "model.fit(X_train, y_train)\n",
        "\n",
        "#3. Calcolo delle predizioni utilizzando il metodo .predict()\n",
        "predictions = model.predict(X_test)"
      ],
      "metadata": {
        "id": "tIxmUEsv0YYR"
      }
    },
    {
      "cell_type": "markdown",
      "source": [
        "### **C** in SVM:\n",
        "\n",
        "**C** è una penalità per i punti classificati erroneamente.\n",
        "\n",
        "- **Small C**: Margine più ampio, tollera alcuni errori (rischio di underfitting).\n",
        "- **Large C**: Minimizza gli errori, margine più stretto (rischio di overfitting)."
      ],
      "metadata": {
        "id": "lmJNePWo0YYS"
      }
    },
    {
      "cell_type": "markdown",
      "source": [
        "### **Guida per la risoluzione**\n",
        "\n",
        "Di seguito sono spiegati i passaggi principali per la risoluzione dell' esercizio.\n",
        "\n",
        "1. **Creazione del modello:** Creare un' istanza della classe `SVC`, specificando i parametri presentati poco sopra. In particolare vogliamo i seguenti parametri:\n",
        "    \n",
        "    - `kernel` = `'linear'`\n",
        "    - `C` = 0.01\n",
        "\n",
        "2. **Addestramento del modello:** Addestriamo il modello utilizzando il metodo `.fit()`. Il modello deve essere addestrato sui dati di train standardizzati.\n",
        "\n",
        "3. **Calcolo delle predizioni:** Calcoliamo le predizioni sul validation e test utilizzando il metodo `.predict()` del modello.\n",
        "\n",
        "4. **Valutazione delle prestazioni del modello:** Calcoliamo l' accuracy del modello. Ricordiamo che l' accuracy è data dal numero di predizioni corrette che il modello effettua rispetto al totale dei campioni. Dobbiamo valutare il modello sia sul validation set che sul test set. Infine stampare il valore di accuracy sul validation e sul test."
      ],
      "metadata": {
        "id": "-otSPVGc0YYS"
      }
    },
    {
      "cell_type": "code",
      "source": [
        "# Step 1 - Creazione del modello\n",
        "from sklearn.svm import SVC\n",
        "import numpy as np\n",
        "\n",
        "# svolgimento...\n",
        "model = SVC(kernel='linear', C=0.01)"
      ],
      "metadata": {
        "trusted": true,
        "execution": {
          "iopub.status.busy": "2025-04-03T13:20:03.814549Z",
          "iopub.execute_input": "2025-04-03T13:20:03.814846Z",
          "iopub.status.idle": "2025-04-03T13:20:03.831427Z",
          "shell.execute_reply.started": "2025-04-03T13:20:03.814813Z",
          "shell.execute_reply": "2025-04-03T13:20:03.830317Z"
        },
        "id": "htw1VcTE0YYS"
      },
      "outputs": [],
      "execution_count": null
    },
    {
      "cell_type": "code",
      "source": [
        "# Step 2 - Addestramento del modello\n",
        "\n",
        "# svolgimento...\n",
        "model.fit(X_train, y_train)"
      ],
      "metadata": {
        "trusted": true,
        "execution": {
          "iopub.status.busy": "2025-04-03T13:20:03.832444Z",
          "iopub.execute_input": "2025-04-03T13:20:03.832817Z"
        },
        "id": "nrIfn5Ka0YYS"
      },
      "outputs": [],
      "execution_count": null
    },
    {
      "cell_type": "code",
      "source": [
        "# Step 3 - Calcolo delle predizioni\n",
        "\n",
        "# svolgimento...\n",
        "predictions_test = model.predict(X_test)\n",
        "predictions_val = model.predict(X_val)"
      ],
      "metadata": {
        "trusted": true,
        "id": "aca2RxPM0YYS"
      },
      "outputs": [],
      "execution_count": null
    },
    {
      "cell_type": "code",
      "source": [
        "# Step 4 - Calcolo delle metriche di valutazione\n",
        "\n",
        "# svolgimento...\n",
        "correct_valid = np.sum(y_val == predictions_val)\n",
        "total_valid = len(y_val)\n",
        "\n",
        "correct_test = np.sum(y_test == predictions_test)\n",
        "total_test = len(y_test)\n",
        "\n",
        "accuracy_valid = correct_valid / total_valid\n",
        "accuracy_test = correct_test / total_test\n",
        "\n",
        "print(f\"Accuratezza su validation set: {accuracy_valid:.4f}\")\n",
        "print(f\"Accuratezza su test set: {accuracy_test:.4f}\")\n"
      ],
      "metadata": {
        "trusted": true,
        "id": "u7_fiQLN0YYT"
      },
      "outputs": [],
      "execution_count": null
    },
    {
      "cell_type": "markdown",
      "source": [
        "### **Esercizio 2.1: Implementare SVM con kernel trick**\n",
        "\n",
        "Vogliamo implementare un classificatore SVM che utilizza il kernel-trick. Le linee guida sono esattamente quanto fatto prima, dobbiamo però modificare il tipo di kernel del modello. Per utilizzare il kernel trick usiamo un **kernel a base radiale (Radial Basis Function)** specificando il parametro:\n",
        "\n",
        "- `kernel` = `'rbf'`"
      ],
      "metadata": {
        "id": "AGdOD1rU0YYT"
      }
    },
    {
      "cell_type": "code",
      "source": [
        "# Step 1 - Creazione del modello\n",
        "from sklearn.svm import SVC\n",
        "import numpy as np\n",
        "\n",
        "# svolgimento...\n",
        "model = SVC(kernel='rbf', C=0.01)\n",
        "# Step 2 - Addestramento del modello\n",
        "\n",
        "# svolgimento...\n",
        "model.fit(X_train, y_train)\n",
        "# Step 3 - Calcolo delle predizioni\n",
        "\n",
        "# svolgimento...\n",
        "predictions_test = model.predict(X_test)\n",
        "predictions_val = model.predict(X_val)\n",
        "# Step 4 - Calcolo delle metriche di valutazione\n",
        "\n",
        "# svolgimento...\n",
        "correct_valid = np.sum(y_val == predictions_val)\n",
        "total_valid = len(y_val)\n",
        "\n",
        "correct_test = np.sum(y_test == predictions_test)\n",
        "total_test = len(y_test)\n",
        "\n",
        "accuracy_valid = correct_valid / total_valid\n",
        "accuracy_test = correct_test / total_test\n",
        "\n",
        "print(f\"Accuratezza su validation set: {accuracy_valid:.4f}\")\n",
        "print(f\"Accuratezza su test set: {accuracy_test:.4f}\")"
      ],
      "metadata": {
        "trusted": true,
        "id": "hmZAADW20YYT"
      },
      "outputs": [],
      "execution_count": null
    },
    {
      "cell_type": "markdown",
      "source": [
        "## **Esercizio 3: Metriche di valutazione**\n",
        "\n",
        "**Matrice di confusione:**\n",
        "\n",
        "La matrice di confusione (anche nota come `confusion matrix` ) è una tabella che riassume le prestazioni di un modello di classificazione mostrando i conteggi dei veri positivi (TP), veri negativi (TN), falsi positivi (FP) e falsi negativi (FN). In questo codice, per un problema di classificazione binaria con classi 0 e 1, la `confusion matrix` è strutturata come segue:\n",
        "\n",
        "|                | **Predicted Class 0** | **Predicted Class 1** |\n",
        "|----------------|:------------------------:|:------------------------:|\n",
        "| **Actual Class 0** | TN                     | FP                     |\n",
        "| **Actual Class 1** | FN                     | TP                     |\n",
        "\n",
        "* **TN (True Negatives):** Il numero di istanze che erano effettivamente Classe 0 e sono state correttamente previste come Classe 0.\n",
        "\n",
        "* **FP (False Positives):** Il numero di istanze che erano effettivamente Classe 0 ma sono state erroneamente previste come Classe 1.\n",
        "\n",
        "* **FN (False Negatives):** Il numero di istanze che erano effettivamente Classe 1 ma sono state erroneamente previste come Classe 0.\n",
        "\n",
        "* **TP (True Positives):** Il numero di istanze che erano effettivamente Classe 1 e sono state correttamente previste come Classe 1.\n",
        "\n",
        "\n",
        "* **Accuracy:** Misura la correttezza complessiva del modello. È il rapporto tra le istanze correttamente classificate e il numero totale di istanze.\n",
        "\n",
        "    $$\n",
        "    \\text{Accuracy} = \\frac{TP + TN}{TP + TN + FP + FN}\n",
        "    $$\n",
        "\n",
        "* **Precision:** Misura l'accuratezza delle previsioni positive. È il rapporto tra le istanze positive correttamente previste e il numero totale di istanze previste come positive.\n",
        "\n",
        "    $$\\text{Precision} = \\frac{TP}{TP + FP}$$\n",
        "\n",
        "* **Recall (Sensitivity or True Positive Rate):** Misura la capacità del modello di trovare tutte le istanze positive. È il rapporto tra le istanze positive correttamente previste e il numero totale di vere istanze positive.\n",
        "\n",
        "    $$\\text{Recall} = \\frac{TP}{TP + FN}$$\n",
        "\n",
        "* **F1-Score:** La media armonica di precisione e richiamo. Fornisce un punteggio unico che bilancia sia la precisione che il richiamo, particolarmente utile quando c'è una distribuzione asimmetrica delle classi.\n",
        "\n",
        "    $$\\text{F1-Score} = 2 \\times \\frac{\\text{Precision} \\times \\text{Recall}}{\\text{Precision} + \\text{Recall}}$$"
      ],
      "metadata": {
        "id": "w22nYjJl0YYT"
      }
    },
    {
      "cell_type": "markdown",
      "source": [
        "Per calcolare le metriche utilizziamo le funzioni presenti in `sklearn.metrics`:\n",
        "\n",
        "#### `confusion_matrix`\n",
        "\n",
        "Dati in input il target reale e le predizioni calcola la matrice di confusione. Documentazione disponibile al seguente link [confusion_matrix](https://scikit-learn.org/stable/modules/generated/sklearn.metrics.confusion_matrix.html).\n",
        "\n",
        "**Syntax**:\n",
        "```python\n",
        "confusion_matrix(y_true, y_pred)\n",
        "```\n",
        "\n",
        "#### `classification_report`\n",
        "\n",
        "Genera un report testuale che mostra le principali metriche di classificazione. Documentazione disponibile al seguente link [classification_report](https://scikit-learn.org/stable/modules/generated/sklearn.metrics.classification_report.html).\n",
        "\n",
        "**Syntax**:\n",
        "```python\n",
        "classification_report(y_true, y_pred)\n",
        "```\n",
        "\n",
        "#### `precision_score`\n",
        "\n",
        "Misura il rapporto tra le istanze positive correttamente previste e il totale delle previsioni positive. Documentazione disponibile al seguente link [precision_score](https://scikit-learn.org/stable/modules/generated/sklearn.metrics.precision_score.html).\n",
        "\n",
        "**Syntax**:\n",
        "```python\n",
        "precision_score(y_true, y_pred, average='binary')\n",
        "```\n",
        "\n",
        "#### `recall_score`\n",
        "\n",
        "Misura il rapporto tra le istanze positive correttamente previste e il totale delle istanze positive effettive. Documentazione disponibile al seguente link [recall_score](https://scikit-learn.org/stable/modules/generated/sklearn.metrics.recall_score.html)\n",
        "\n",
        "**Syntax**:\n",
        "```python\n",
        "recall_score(y_true, y_pred, average='binary')\n",
        "```\n",
        "\n",
        "#### `f1_score`\n",
        "\n",
        "Calcola la media armonica di precision e recall. Documentazione disponibile al seguente link [f1_score](https://scikit-learn.org/stable/modules/generated/sklearn.metrics.f1_score.html)\n",
        "\n",
        "**Syntax**:\n",
        "```python\n",
        "f1_score(y_true, y_pred, average='binary')\n",
        "```\n",
        "\n"
      ],
      "metadata": {
        "id": "zFhauZUN0YYT"
      }
    },
    {
      "cell_type": "markdown",
      "source": [
        "### **Guida:**\n",
        "\n",
        "1. **Calcoliamo la matrice di confusione:** Calcolare la matrice di confusione con `confusion_matrix` e stamparla.\n",
        "\n",
        "2. **Calcoliamo precision, recall e F1 score:** Calcolare le metriche di valutazione con le funzioni presentate sopra e stamparle.\n",
        "\n",
        "3. **Calcoliamo il classification report:** Calcolare il classification report e stamparlo.\n",
        "\n",
        "4. **Stampare la matrice di confusione:** Utilizzare la funzione `plot_confusion_matrix` che vi abbiamo fornito per stampare la matrice di confusione. La funzione ha bisogno di un unico parametro che è la matrice di confusione calcolata al punto 1."
      ],
      "metadata": {
        "id": "qtLjOrXX0YYT"
      }
    },
    {
      "cell_type": "code",
      "source": [
        "# Step 1 - Calcolare la matrice di confusione\n",
        "\n",
        "from sklearn.metrics import confusion_matrix\n",
        "import matplotlib.pyplot as plt\n",
        "import seaborn as sns\n",
        "\n",
        "# svolgimento...\n",
        "cm_test = confusion_matrix(y_test, predictions_test)\n",
        "cm_val = confusion_matrix(y_val, predictions_val)\n",
        "\n",
        "print(\"Matrice di confusione (Test Set):\\n\", cm_test)\n",
        "print(\"Matrice di confusione (Validation Set):\\n\", cm_val)"
      ],
      "metadata": {
        "trusted": true,
        "id": "viCjC9iN0YYU"
      },
      "outputs": [],
      "execution_count": null
    },
    {
      "cell_type": "code",
      "source": [
        "# Step 2 - Calcolare precision, recall e F1 score\n",
        "\n",
        "from sklearn.metrics import precision_score, recall_score, f1_score\n",
        "\n",
        "# svolgimento...\n",
        "precision_test = precision_score(y_test, predictions_test)\n",
        "precision_val = precision_score(y_val, predictions_val)\n",
        "\n",
        "recall_test = recall_score(y_test, predictions_test)\n",
        "recall_val = recall_score(y_val, predictions_val)\n",
        "\n",
        "f1_test = f1_score(y_test, predictions_test)\n",
        "f1_val = f1_score(y_val, predictions_val)\n",
        "\n",
        "print(f\"Precision Test: {precision_test:.4f}, Precision Val: {precision_val:.4f}\")\n",
        "print(f\"Recall Test: {recall_test:.4f}, Recall Val: {recall_val:.4f}\")\n",
        "print(f\"F1 Score Test: {f1_test:.4f}, F1 Score Val: {f1_val:.4f}\")"
      ],
      "metadata": {
        "trusted": true,
        "id": "QKKp4YSs0YYU"
      },
      "outputs": [],
      "execution_count": null
    },
    {
      "cell_type": "code",
      "source": [
        "# Step 3 - Calcolare il report di classificazione\n",
        "from sklearn.metrics import classification_report\n",
        "\n",
        "# svolgimento...\n",
        "report_test = classification_report(y_test, predictions_test)\n",
        "report_val = classification_report(y_val, predictions_val)\n",
        "\n",
        "print(\"Classification Report (Test Set):\\n\", report_test)\n",
        "print(\"Classification Report (Validation Set):\\n\", report_val)"
      ],
      "metadata": {
        "trusted": true,
        "id": "j1Ud7uog0YYU"
      },
      "outputs": [],
      "execution_count": null
    },
    {
      "cell_type": "code",
      "source": [
        "# Step 4 - Visualizzare la matrice di confusione\n",
        "\n",
        "def plot_confusion_matrix(cm, title=\"Confusion Matrix\"):\n",
        "    \"\"\"\n",
        "    Visualizza una matrice di confusione come heatmap.\n",
        "\n",
        "    Parameters:\n",
        "    -----------\n",
        "    cm : numpy.ndarray\n",
        "        La matrice di confusione da visualizzare\n",
        "    \"\"\"\n",
        "    plt.figure(figsize=(6, 4))\n",
        "    sns.heatmap(cm, annot=True, fmt='d', cmap='Blues',\n",
        "                xticklabels=['Class 0', 'Class 1'], yticklabels=['Class 0', 'Class 1'])\n",
        "    plt.xlabel('Predicted')\n",
        "    plt.ylabel('True')\n",
        "    plt.title(title)\n",
        "    plt.show()\n",
        "\n",
        "plot_confusion_matrix(cm_test, title=\"Confusion Matrix - Test Set\")\n",
        "plot_confusion_matrix(cm_val, title=\"Confusion Matrix - Validation Set\")"
      ],
      "metadata": {
        "trusted": true,
        "id": "E2iXkeHw0YYU"
      },
      "outputs": [],
      "execution_count": null
    },
    {
      "cell_type": "markdown",
      "source": [
        "### **ROC Curve, AUC**\n",
        "\n",
        "Per calcolare la ROC curve, e conseguentemente l' AUC, abbiamo bisogno delle probabilità di predizione.\n",
        "\n",
        "Nel caso della **regressione logistica** possiamo utilizzare l' attributo del modello `predict_proba` da utilizzare come segue:\n",
        "\n",
        "```python\n",
        "# Estrai le probabilità della classe positiva\n",
        "y_pred_proba = classifier.predict_proba(X_test_scaled)[:, 1]\n",
        "```\n",
        "\n",
        "Per quanto riguarda invece l' **SVM**, è necessario specificare il parametro `probability` = **True** affinchè `predict_proba` funzioni.\n",
        "\n",
        "```python\n",
        "# Specifica il parametro probability=True\n",
        "classifier = SVC(kernel='linear', C=0.01, probability=True)\n",
        "```\n",
        "\n",
        "Una volta estratte le probabilità possiamo utilizzare le funzione di `sklearn.metrics`:\n",
        "\n",
        "- `roc_curve`\n",
        "- `roc_auc_score`\n",
        "\n",
        "Di seguito è mostrata la sintassi per utilizzare le due funzioni.\n",
        "\n",
        "---\n",
        "\n",
        "#### `roc_curve`\n",
        "```python\n",
        "# Calcola i valori della curva ROC\n",
        "fpr, tpr, thresholds = roc_curve(y_test, y_pred_proba)\n",
        "```\n",
        "Calcola i valori della Curva ROC (Receiver Operating Characteristic): Tasso di Falsi Positivi (FPR), Tasso di Veri Positivi (TPR) e soglie.\n",
        "\n",
        "---\n",
        "\n",
        "#### `roc_auc_score`\n",
        "```python\n",
        "# Calcola AUC\n",
        "auc = roc_auc_score(y_test, y_pred_proba)\n",
        "```\n",
        "Calcola l'Area Under the Curve (AUC) per la ROC, quantificando la capacità del modello di distinguere tra classi positive e negative."
      ],
      "metadata": {
        "id": "Z2LB3Y9H0YYU"
      }
    },
    {
      "cell_type": "code",
      "source": [
        "# Step 1 - Estrarre le probabilità dal modello di regressione logistica\n",
        "# ATTENZIONE: Per il calcolo della ROC curve ci servono le probabilità della classe positiva.\n",
        "\n",
        "# svolgimento...\n",
        "y_pred_proba = model.predict_proba(X_test)[:, 1]\n",
        "print(y_pred_proba)"
      ],
      "metadata": {
        "trusted": true,
        "id": "IN5bWXNt0YYU",
        "colab": {
          "base_uri": "https://localhost:8080/"
        },
        "outputId": "46555fc5-b2ef-4d60-95e0-68cb396b6981"
      },
      "outputs": [
        {
          "output_type": "stream",
          "name": "stdout",
          "text": [
            "[6.18486894e-03 7.66968592e-01 5.28109383e-02 ... 7.34643106e-01\n",
            " 9.22394515e-01 2.54125079e-04]\n"
          ]
        }
      ],
      "execution_count": 46
    },
    {
      "cell_type": "code",
      "source": [
        "# Step 2 - Allenare l' SVM con il parametro probability=True ed estrarre le probabilità\n",
        "\n",
        "# svolgimento...\n",
        "classifier = SVC(kernel='linear', C=0.01, probability=True)"
      ],
      "metadata": {
        "trusted": true,
        "id": "kxbhTKoJ0YYV"
      },
      "outputs": [],
      "execution_count": 47
    },
    {
      "cell_type": "code",
      "source": [
        "# Step 3 - Calcolare le curve ROC e AUC per entrambe le probabilità (logistic e SVM)\n",
        "\n",
        "from sklearn.metrics import roc_curve, roc_auc_score\n",
        "\n",
        "# svolgimento...\n",
        "fpr, tpr, thresholds = roc_curve(y_test, y_pred_proba)"
      ],
      "metadata": {
        "trusted": true,
        "id": "VUUKhXGk0YYV"
      },
      "outputs": [],
      "execution_count": 48
    },
    {
      "cell_type": "code",
      "source": [
        "# Step 4 - Disegnare le curve ROC per entrambe le probabilità (logistic e SVM)\n",
        "\n",
        "def plot_roc_curve(fpr, tpr, auc):\n",
        "    \"\"\"\n",
        "    Disegna la curva ROC e stampa il valore AUC.\n",
        "\n",
        "    Parameters:\n",
        "    -----------\n",
        "    fpr : array-like\n",
        "        Tasso di falsi positivi (False Positive Rate).\n",
        "    tpr : array-like\n",
        "        Tasso di veri positivi (True Positive Rate).\n",
        "    auc : float\n",
        "        Area sotto la curva (AUC).\n",
        "    \"\"\"\n",
        "    import matplotlib.pyplot as plt\n",
        "\n",
        "    plt.figure(figsize=(6, 4))\n",
        "    plt.plot(fpr, tpr, color='blue', lw=2, label=f'AUC = {auc:.4f}')\n",
        "    plt.plot([0, 1], [0, 1], color='red', linestyle='--', lw=2)  # Linea di non discriminazione\n",
        "    plt.xlabel('False Positive Rate')\n",
        "    plt.ylabel('True Positive Rate')\n",
        "    plt.title('Receiver Operating Characteristic (ROC) Curve')\n",
        "    plt.legend(loc='lower right')\n",
        "    plt.grid()\n",
        "    plt.show()\n",
        "\n",
        "    # Stampa il valore AUC\n",
        "    print(f\"AUC: {auc:.4f}\")\n",
        "\n",
        "# svolgimento...\n",
        "auc = roc_auc_score(y_test, y_pred_proba)"
      ],
      "metadata": {
        "trusted": true,
        "id": "RclIAAlJ0YYV"
      },
      "outputs": [],
      "execution_count": 49
    },
    {
      "cell_type": "markdown",
      "source": [
        "# **Esercizio 4: Classificazione multi classe**\n",
        "\n",
        "Se finora abbiamo lavorato soltanto con classificazione binaria, adesso addestriamo nuovamente i classificatori visti sopra, ma nella situazione in cui abbiamo più classi."
      ],
      "metadata": {
        "id": "0WNMYiOb0YYV"
      }
    },
    {
      "cell_type": "code",
      "source": [
        "import numpy as np\n",
        "import matplotlib.pyplot as plt\n",
        "from sklearn.datasets import fetch_openml\n",
        "from sklearn.model_selection import train_test_split\n",
        "from sklearn.preprocessing import StandardScaler\n",
        "from sklearn.utils import shuffle\n",
        "\n",
        "\n",
        "mnist = fetch_openml('mnist_784', version=1, parser='auto')\n",
        "X, y = np.array(mnist.data), np.array(mnist.target.astype(int))\n",
        "\n",
        "# Utilizziamo soltanto il 20% dei campioni del dataset per questioni di praticità\n",
        "n_percent = 0.2\n",
        "\n",
        "# La funzione train_test_split ci assicura che i dati che rimuoviamo siano bilanciati.\n",
        "# In questo modo non alteriamo la distribuzione delle classi.\n",
        "X, _, y, _ = train_test_split(\n",
        "    X, y, train_size=n_percent, stratify=y, random_state=42\n",
        ")\n",
        "\n",
        "X, y = shuffle(X, y)\n",
        "\n",
        "print(\"Shape of X:\", X.shape)\n",
        "print(\"Shape of y:\", y.shape)"
      ],
      "metadata": {
        "trusted": true,
        "id": "05LHpjpi0YYV",
        "colab": {
          "base_uri": "https://localhost:8080/"
        },
        "outputId": "6c9746ea-b49c-429c-b7cb-237ffc78c9af"
      },
      "outputs": [
        {
          "output_type": "stream",
          "name": "stdout",
          "text": [
            "Shape of X: (14000, 784)\n",
            "Shape of y: (14000,)\n"
          ]
        }
      ],
      "execution_count": 51
    },
    {
      "cell_type": "code",
      "source": [
        "# Step 1 - Dividiamo il dataset in train, validation e test e standardizziamo.\n",
        "train_fraction = 0.6\n",
        "validation_fraction = 0.2\n",
        "test_fraction = 0.2\n",
        "\n",
        "# svolgimento...\n",
        "n_train = int(train_fraction * X.shape[0])\n",
        "n_val = int(validation_fraction * X.shape[0])\n",
        "X_train = X[:n_train]\n",
        "y_train = y[:n_train]\n",
        "\n",
        "\n",
        "X_val = X[n_train:n_train + n_val]\n",
        "y_val = y[n_train:n_train + n_val]\n",
        "\n",
        "X_test = X[n_train + n_val:]\n",
        "y_test = y[n_train + n_val:]\n",
        "\n",
        "scaler = StandardScaler()\n",
        "X_train_normalized = scaler.fit_transform(X_train)\n",
        "X_validation_normalized = scaler.transform(X_val)\n",
        "X_test_normalized = scaler.transform(X_test)\n",
        "\n",
        "print(X_train_normalized.shape,\n",
        "X_validation_normalized.shape,\n",
        "X_test_normalized.shape)"
      ],
      "metadata": {
        "trusted": true,
        "id": "LfK8Y4_S0YYV",
        "colab": {
          "base_uri": "https://localhost:8080/"
        },
        "outputId": "6261006b-d1b1-4511-dcd0-450cf15a986e"
      },
      "outputs": [
        {
          "output_type": "stream",
          "name": "stdout",
          "text": [
            "(8400, 784) (2800, 784) (2800, 784)\n"
          ]
        }
      ],
      "execution_count": 53
    },
    {
      "cell_type": "code",
      "source": [
        "# Step 2 - Alleniamo il modello di regressione logistica e calcoliamo le predizioni e prestazioni.\n",
        "from sklearn.linear_model import LogisticRegression\n",
        "import numpy as np\n",
        "\n",
        "# IMPORTANTE:\n",
        "# Quando istanziamo la classe LogisticRegression utilizziamo come parametri\n",
        "# max_iter=200 e solver='lbfgs'.\n",
        "\n",
        "# svolgimento...\n",
        "\n",
        "model = LogisticRegression(max_iter = 200, solver = 'lbfgs')\n",
        "model.fit(X_train_normalized,y_train)\n",
        "\n",
        "prediction_test = model.predict(X_test_normalized)\n",
        "prediction_validation = model.predict(X_validation_normalized)\n",
        "\n",
        "print(prediction_test.shape,prediction_validation.shape)\n",
        "\n"
      ],
      "metadata": {
        "trusted": true,
        "id": "Jcxlg4sE0YYV",
        "colab": {
          "base_uri": "https://localhost:8080/"
        },
        "outputId": "18ea6568-b691-49a1-fac3-8de4f7153b74"
      },
      "outputs": [
        {
          "output_type": "stream",
          "name": "stdout",
          "text": [
            "(2800,) (2800,)\n"
          ]
        }
      ],
      "execution_count": 54
    },
    {
      "cell_type": "code",
      "source": [
        "# Step 3 - Alleniamo il modello di SVM e calcoliamo le predizioni e prestazioni.\n",
        "from sklearn.svm import SVC\n",
        "\n",
        "# IMPORTANTE:\n",
        "# Quando istanziamo la classe SVC utilizziamo come parametri C=0.01,\n",
        "# kernel='linear' e decision_function_shape='ovr'.\n",
        "\n",
        "# svolgimento...\n",
        "model = SVC(C = 0.01, kernel = 'linear', decision_function_shape = 'ovr')\n",
        "model.fit(X_train_normalized,y_train)\n",
        "\n",
        "prediction_test = model.predict(X_test_normalized)\n",
        "prediction_validation = model.predict(X_validation_normalized)\n",
        "\n",
        "print(prediction_test.shape,prediction_validation.shape)"
      ],
      "metadata": {
        "trusted": true,
        "id": "sbMJhZ3B0YYV",
        "colab": {
          "base_uri": "https://localhost:8080/"
        },
        "outputId": "4c14f84c-a654-47fc-e344-75b29530688b"
      },
      "outputs": [
        {
          "output_type": "stream",
          "name": "stdout",
          "text": [
            "(2800,) (2800,)\n"
          ]
        }
      ],
      "execution_count": 55
    },
    {
      "cell_type": "markdown",
      "source": [
        "# **Esercizio 5: Scrivere una funzione pipeline per l' allenamento di un classificatore**\n",
        "\n",
        "La funzione `pipeline` prende in input il train set, `X_train` e `y_train`, il validation set, `X_val` e `y_val`, e un dizionario `hyperparams` che contiene una configurazione di training.\n",
        "\n",
        "La funzione deve:\n",
        "\n",
        "* Applicare la PCA **se richiesto**.\n",
        "\n",
        "* Standardizzare i dati **a prescindere che sia richiesto o meno**.\n",
        "\n",
        "* Allenare un classificatore. Il dizionario avrà una chiave `classifier`, il cui value può essere:\n",
        "\n",
        "    * `lr` per indicare un modello di **Regressione Logistica**.\n",
        "    * `svm` per indicare un modello **SVM**.\n",
        "\n",
        "* Effettuare le predizioni e utilizzarle per calcolare l' accuracy del classificatore."
      ],
      "metadata": {
        "id": "ti0BZ2uF0YYV"
      }
    },
    {
      "cell_type": "code",
      "source": [
        "# IMPORTANTE: Eseguire questa cella prima di procedere\n",
        "\n",
        "def plot_confusion_matrix_multiclass(cm):\n",
        "    \"\"\"\n",
        "    Visualizza una matrice di confusione come heatmap.\n",
        "\n",
        "    Parameters:\n",
        "    -----------\n",
        "    cm : numpy.ndarray\n",
        "        La matrice di confusione da visualizzare\n",
        "    \"\"\"\n",
        "    # Calcola dinamicamente le etichette delle classi\n",
        "    class_labels = [f\"Class {i}\" for i in range(cm.shape[0])]\n",
        "\n",
        "    # Visualizza la heatmap\n",
        "    plt.figure(figsize=(8, 6))\n",
        "    sns.heatmap(cm, annot=True, fmt='d', cmap='Blues',\n",
        "                xticklabels=class_labels, yticklabels=class_labels)\n",
        "    plt.xlabel('Predicted')\n",
        "    plt.ylabel('True')\n",
        "    plt.title('Confusion Matrix')\n",
        "    plt.show()"
      ],
      "metadata": {
        "trusted": true,
        "id": "nOUYeEDm0YYV"
      },
      "outputs": [],
      "execution_count": 37
    },
    {
      "cell_type": "code",
      "source": [
        "from sklearn.decomposition import PCA\n",
        "from sklearn.linear_model import LogisticRegression\n",
        "from sklearn.neighbors import KNeighborsClassifier\n",
        "from sklearn.svm import SVC\n",
        "from sklearn.preprocessing import StandardScaler\n",
        "from sklearn.metrics import confusion_matrix\n",
        "import seaborn as sns\n",
        "import matplotlib.pyplot as plt\n",
        "\n",
        "\n",
        "def pipeline(X_train, y_train, X_val, y_val, hyperparams):\n",
        "\n",
        "    if hyperparams['use_pca']:\n",
        "\n",
        "        # Implementare codice per la PCA\n",
        "        pca = PCA(n_components = 0.95)\n",
        "        X_train_pca = pca.fit_transform(X_train)\n",
        "        X_val_pca = pca.transform(X_val)\n",
        "\n",
        "    # Implementare codice per la standardizzazione\n",
        "    scaler = StandardScaler()\n",
        "    X_train_scaled = scaler.fit_transform(X_train)\n",
        "    X_val_scaled = scaler.transform(X_val)\n",
        "\n",
        "    if hyperparams['classifier'] == 'lr':\n",
        "        # Implementare codice per Regressione Lineare\n",
        "        model = LogisticRegression(max_iter = 200, solver = 'lbfgs')\n",
        "        model.fit(X_train_scaled,y_train)\n",
        "        prediction_val = model.predict(X_val_scaled)\n",
        "\n",
        "    elif hyperparams['classifier'] == 'svm':\n",
        "        # Implementare codice per SVM\n",
        "        model = SVC(C = 0.01, kernel = 'linear', decision_function_shape = 'ovr')\n",
        "        model.fit(X_train_scaled,y_train)\n",
        "        prediction_val = model.predict(X_val_scaled)\n",
        "\n",
        "    # Effettuare predizioni\n",
        "    # Calcolare e stampare accuracy sul validation set\n",
        "    accuracy_test = (predictions_test == y_test).sum() / y_test.shape\n",
        "    accuracy_validation = (predictions_val == y_val).sum() / y_val.shape\n",
        "\n",
        "\n",
        "    # Calcolare la matrice di confusione\n",
        "    cm = confusion_matrix(y_val, prediction_val)\n",
        "    # Visualizzare la matrice di confusione\n",
        "    plot_confusion_matrix_multiclass(cm)"
      ],
      "metadata": {
        "trusted": true,
        "id": "SQ0VQX1c0YYW"
      },
      "outputs": [],
      "execution_count": 41
    },
    {
      "cell_type": "code",
      "source": [
        "# Provare la funzione pipeline su tutte le configurazioni presenti qui di seguito\n",
        "\n",
        "hyperparams_1 = {\n",
        "    'use_pca': False,\n",
        "    'classifier': 'svm',\n",
        "}\n",
        "\n",
        "hyperparams_2 = {\n",
        "    'use_pca': True,\n",
        "    'classifier': 'svm',\n",
        "}\n",
        "\n",
        "hyperparams_3 = {\n",
        "    'use_pca': False,\n",
        "    'classifier': 'lr',\n",
        "}\n",
        "\n",
        "hyperparams_4 = {\n",
        "    'use_pca': True,\n",
        "    'classifier': 'lr',\n",
        "}\n",
        "\n",
        "# svolgimento...\n",
        "pipeline(X_train, y_train, X_val, y_val, hyperparams_1)\n"
      ],
      "metadata": {
        "trusted": true,
        "id": "e43FYNqT0YYW",
        "colab": {
          "base_uri": "https://localhost:8080/",
          "height": 562
        },
        "outputId": "e91ce470-c104-4430-804c-6ba6b68386f8"
      },
      "outputs": [
        {
          "output_type": "display_data",
          "data": {
            "text/plain": [
              "<Figure size 800x600 with 2 Axes>"
            ],
            "image/png": "[encoded data removed]"
          },
          "metadata": {}
        }
      ],
      "execution_count": 42
    }
  ]
}